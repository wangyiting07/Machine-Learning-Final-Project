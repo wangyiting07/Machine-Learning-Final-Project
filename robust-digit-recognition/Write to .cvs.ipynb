{
 "cells": [
  {
   "cell_type": "code",
   "execution_count": 16,
   "metadata": {},
   "outputs": [],
   "source": [
    "\n",
    "    \n",
    "import csv\n",
    "import numpy as np\n",
    "ID = [10,11,12,13,14,15,16,17]\n",
    "ID = np.array(ID)\n",
    "ID = ID.astype(str)\n",
    "pre = [5,3,7,2,6,8,6]\n",
    "data = [[10,5],[12,6],[14,7]]\n",
    "# r = 7\n",
    "# c = 2\n",
    "# data = [[0 for x in range(c)] for y in range(r)]\n",
    "# for i in range (0,7):\n",
    "#     for j in range (0,2):\n",
    "#         data[i][j]ID[j]\n",
    "#         data[i].append(pre[j])\n",
    "with open('eggs.csv', 'w',newline='') as csvfile:\n",
    "\n",
    "    spamwriter = csv.writer(csvfile)\n",
    "    spamwriter.writerow(['ID','num'])\n",
    "    for d in data:\n",
    "#         a = str(ID[i])\n",
    "#         b = str(pre[i])\n",
    "        spamwriter.writerow(d)\n",
    "\n",
    "       "
   ]
  },
  {
   "cell_type": "code",
   "execution_count": 9,
   "metadata": {
    "collapsed": true
   },
   "outputs": [],
   "source": [
    "data = [\n",
    "    ['Dan', 42],\n",
    "    ['Cordelia', 33],\n",
    "    ['Sammy', 52]\n",
    "]\n",
    "\n",
    "import csv\n",
    "with open('outputdata.csv', 'w') as outfile:\n",
    "    mywriter = csv.writer(outfile)\n",
    "    # manually add header\n",
    "\n",
    "    mywriter.writerow(['name', 'age'])\n",
    "    for d in data:\n",
    "        mywriter.writerow(d)"
   ]
  },
  {
   "cell_type": "code",
   "execution_count": null,
   "metadata": {
    "collapsed": true
   },
   "outputs": [],
   "source": []
  }
 ],
 "metadata": {
  "kernelspec": {
   "display_name": "Python 3",
   "language": "python",
   "name": "python3"
  },
  "language_info": {
   "codemirror_mode": {
    "name": "ipython",
    "version": 3
   },
   "file_extension": ".py",
   "mimetype": "text/x-python",
   "name": "python",
   "nbconvert_exporter": "python",
   "pygments_lexer": "ipython3",
   "version": "3.6.1"
  }
 },
 "nbformat": 4,
 "nbformat_minor": 2
}
